{
 "cells": [
  {
   "cell_type": "code",
   "execution_count": null,
   "metadata": {},
   "outputs": [],
   "source": [
    "# Q-1.1\n",
    "#Write a Python Program to implement your own myreduce() function which works exactly like\n",
    "#Python's built-in function reduce()\n",
    "\n",
    "def abcd():\n",
    "    l=[]\n",
    "    for i in range(0,5):\n",
    "        x=int(input(\"enter a number:\"))\n",
    "        l.append(x)\n",
    "    return l\n",
    "\n",
    "z=abcd()\n",
    "y=0\n",
    "for i in range(0,len(z)):\n",
    "    y=y+z[i]\n",
    "print(\"the sum of elements of y is:\",y)"
   ]
  },
  {
   "cell_type": "code",
   "execution_count": null,
   "metadata": {},
   "outputs": [],
   "source": [
    "#Q-1.2\n",
    "#Write a Python program to implement your own myfilter() function which works exactly like\n",
    "#Python's built-in function filter()\n",
    "\n",
    "def vowel_checker():\n",
    "    x=input(str(\"Enter a character:\"))\n",
    "    if (x==\"a\" or x==\"e\" or x==\"i\" or x==\"o\" or x==\"u\"):\n",
    "        return True\n",
    "    else:\n",
    "        return False\n",
    "y=vowel_checker()\n",
    "print(y)\n"
   ]
  },
  {
   "cell_type": "code",
   "execution_count": null,
   "metadata": {},
   "outputs": [],
   "source": [
    "#Q-Implement a function longestWord() that takes a list of words and returns the longest one.\n",
    "\n",
    "\n",
    "def filter_long_words():\n",
    "    l=[]\n",
    "   \n",
    "    z=int(input(\"enter any int value:\"))\n",
    "    for i in range(0,5):\n",
    "        x=input(str(\"enter a word:\"))\n",
    "        y=len(x)\n",
    "        if y>z:\n",
    "            l.append(x)\n",
    "    return l\n",
    "    \n",
    "m=filter_long_words()\n",
    "print(m)"
   ]
  },
  {
   "cell_type": "code",
   "execution_count": null,
   "metadata": {},
   "outputs": [],
   "source": [
    "#Task-2\n",
    "\n",
    "#1.1\n",
    "#Write a Python Program(with class concepts) to find the area of the triangle using the below\n",
    "#formula.\n",
    "#area = (s*(s-a)*(s-b)*(s-c)) ** 0.5\n",
    "#Function to take the length of the sides of triangle from user should be defined in the parent\n",
    "#class and function to calculate the area should be defined in subclass.\n",
    "\n",
    "\n",
    "class area:\n",
    "    def __init__(self,a,b,c,s):\n",
    "        self.a=a\n",
    "        self.b=b\n",
    "        self.c=c\n",
    "        self.s=s\n",
    "    def triangle_area(self):\n",
    "        area = (self.s*(self.s-self.a)*(self.s-self.b)*(self.s-self.c)) ** 0.5\n",
    "\n",
    "        print(\"Area of triangle:\",area)\n",
    "        \n",
    "x=area(2,3,4,5)\n",
    "x.triangle_area()\n"
   ]
  },
  {
   "cell_type": "code",
   "execution_count": null,
   "metadata": {},
   "outputs": [],
   "source": [
    "#Q-1.2\n",
    "#Write a function filter_long_words() that takes a list of words and an integer n and returns the list\n",
    "#of words that are longer than n.\n",
    "\n",
    "def filter_long_words():\n",
    "    l=[]\n",
    "    m=[]\n",
    "    for i in range(0,5):\n",
    "        x=input(str(\"enter a word:\"))\n",
    "        y=len(x)\n",
    "        l.append(x)\n",
    "        m.append(y)\n",
    "\n",
    "    return l,m\n",
    "z,p= filter_long_words()\n",
    "s=(max(p))\n",
    "c=[]\n",
    "for i in range(0,len(z)):\n",
    "    if (len(z[i])>=s):\n",
    "        c.append(z[i])\n",
    "print(c)"
   ]
  },
  {
   "cell_type": "code",
   "execution_count": null,
   "metadata": {},
   "outputs": [],
   "source": [
    "#Q-2.1\n",
    "#Write a Python program using function concept that maps list of words into a list of integers\n",
    "#representing the lengths of the corresponding words.\n",
    "\n",
    "def abcd():\n",
    "    l=[]\n",
    "    for i in range(0,5):\n",
    "        x=input(str(\"enter a word:\"))\n",
    "        l.append(x)\n",
    "    return l\n",
    "\n",
    "\n",
    "\n",
    "def length():\n",
    "    length=[]\n",
    "    y=abcd()\n",
    "    for i in range(0,len(y)):\n",
    "        result=len(y[i])\n",
    "        length.append(result)\n",
    "    return length\n",
    "\n",
    "m=length()\n",
    "print(m)\n"
   ]
  },
  {
   "cell_type": "code",
   "execution_count": null,
   "metadata": {},
   "outputs": [],
   "source": [
    "#Q-2.2\n",
    "#Write a Python function which takes a character (i.e. a string of length 1) and returns True if it is\n",
    "#a vowel, False otherwise.\n",
    "\n",
    "def vowel_checker():\n",
    "    x=input(str(\"Enter a character:\"))\n",
    "    if (x==\"a\" or x==\"e\" or x==\"i\" or x==\"o\" or x==\"u\"):\n",
    "        return True\n",
    "    else:\n",
    "        return False\n",
    "y=vowel_checker()\n",
    "print(y)\n"
   ]
  }
 ],
 "metadata": {
  "kernelspec": {
   "display_name": "Python 3",
   "language": "python",
   "name": "python3"
  },
  "language_info": {
   "codemirror_mode": {
    "name": "ipython",
    "version": 3
   },
   "file_extension": ".py",
   "mimetype": "text/x-python",
   "name": "python",
   "nbconvert_exporter": "python",
   "pygments_lexer": "ipython3",
   "version": "3.6.8"
  }
 },
 "nbformat": 4,
 "nbformat_minor": 2
}
